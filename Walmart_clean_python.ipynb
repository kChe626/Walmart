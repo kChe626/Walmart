{
 "cells": [
  {
   "cell_type": "code",
   "execution_count": 1,
   "id": "52d1a9b2-cfbf-47c4-a0f1-42c71793a22a",
   "metadata": {},
   "outputs": [],
   "source": [
    "import pandas as pd"
   ]
  },
  {
   "cell_type": "code",
   "execution_count": 2,
   "id": "f45b29f8-8e1c-42f6-8819-db506050bc47",
   "metadata": {},
   "outputs": [],
   "source": [
    "# Load dataset\n",
    "df = pd.read_csv(r\"C:\\Users\\kche8\\OneDrive\\Desktop\\Dataset\\Walmart.csv\")"
   ]
  },
  {
   "cell_type": "code",
   "execution_count": 3,
   "id": "bcc7e27f-6e9a-437d-961a-acd8b5aff8b6",
   "metadata": {},
   "outputs": [
    {
     "data": {
      "text/html": [
       "<div>\n",
       "<style scoped>\n",
       "    .dataframe tbody tr th:only-of-type {\n",
       "        vertical-align: middle;\n",
       "    }\n",
       "\n",
       "    .dataframe tbody tr th {\n",
       "        vertical-align: top;\n",
       "    }\n",
       "\n",
       "    .dataframe thead th {\n",
       "        text-align: right;\n",
       "    }\n",
       "</style>\n",
       "<table border=\"1\" class=\"dataframe\">\n",
       "  <thead>\n",
       "    <tr style=\"text-align: right;\">\n",
       "      <th></th>\n",
       "      <th>invoice_id</th>\n",
       "      <th>Branch</th>\n",
       "      <th>City</th>\n",
       "      <th>category</th>\n",
       "      <th>unit_price</th>\n",
       "      <th>quantity</th>\n",
       "      <th>date</th>\n",
       "      <th>time</th>\n",
       "      <th>payment_method</th>\n",
       "      <th>rating</th>\n",
       "      <th>profit_margin</th>\n",
       "    </tr>\n",
       "  </thead>\n",
       "  <tbody>\n",
       "    <tr>\n",
       "      <th>0</th>\n",
       "      <td>1</td>\n",
       "      <td>WALM003</td>\n",
       "      <td>San Antonio</td>\n",
       "      <td>Health and beauty</td>\n",
       "      <td>$74.69</td>\n",
       "      <td>7.0</td>\n",
       "      <td>05/01/19</td>\n",
       "      <td>13:08:00</td>\n",
       "      <td>Ewallet</td>\n",
       "      <td>9.1</td>\n",
       "      <td>0.48</td>\n",
       "    </tr>\n",
       "    <tr>\n",
       "      <th>1</th>\n",
       "      <td>2</td>\n",
       "      <td>WALM048</td>\n",
       "      <td>Harlingen</td>\n",
       "      <td>Electronic accessories</td>\n",
       "      <td>$15.28</td>\n",
       "      <td>5.0</td>\n",
       "      <td>08/03/19</td>\n",
       "      <td>10:29:00</td>\n",
       "      <td>Cash</td>\n",
       "      <td>9.6</td>\n",
       "      <td>0.48</td>\n",
       "    </tr>\n",
       "    <tr>\n",
       "      <th>2</th>\n",
       "      <td>3</td>\n",
       "      <td>WALM067</td>\n",
       "      <td>Haltom City</td>\n",
       "      <td>Home and lifestyle</td>\n",
       "      <td>$46.33</td>\n",
       "      <td>7.0</td>\n",
       "      <td>03/03/19</td>\n",
       "      <td>13:23:00</td>\n",
       "      <td>Credit card</td>\n",
       "      <td>7.4</td>\n",
       "      <td>0.33</td>\n",
       "    </tr>\n",
       "    <tr>\n",
       "      <th>3</th>\n",
       "      <td>4</td>\n",
       "      <td>WALM064</td>\n",
       "      <td>Bedford</td>\n",
       "      <td>Health and beauty</td>\n",
       "      <td>$58.22</td>\n",
       "      <td>8.0</td>\n",
       "      <td>27/01/19</td>\n",
       "      <td>20:33:00</td>\n",
       "      <td>Ewallet</td>\n",
       "      <td>8.4</td>\n",
       "      <td>0.33</td>\n",
       "    </tr>\n",
       "    <tr>\n",
       "      <th>4</th>\n",
       "      <td>5</td>\n",
       "      <td>WALM013</td>\n",
       "      <td>Irving</td>\n",
       "      <td>Sports and travel</td>\n",
       "      <td>$86.31</td>\n",
       "      <td>7.0</td>\n",
       "      <td>08/02/19</td>\n",
       "      <td>10:37:00</td>\n",
       "      <td>Ewallet</td>\n",
       "      <td>5.3</td>\n",
       "      <td>0.48</td>\n",
       "    </tr>\n",
       "  </tbody>\n",
       "</table>\n",
       "</div>"
      ],
      "text/plain": [
       "   invoice_id   Branch         City                category unit_price  \\\n",
       "0           1  WALM003  San Antonio       Health and beauty     $74.69   \n",
       "1           2  WALM048    Harlingen  Electronic accessories     $15.28   \n",
       "2           3  WALM067  Haltom City      Home and lifestyle     $46.33   \n",
       "3           4  WALM064      Bedford       Health and beauty     $58.22   \n",
       "4           5  WALM013       Irving       Sports and travel     $86.31   \n",
       "\n",
       "   quantity      date      time payment_method  rating  profit_margin  \n",
       "0       7.0  05/01/19  13:08:00        Ewallet     9.1           0.48  \n",
       "1       5.0  08/03/19  10:29:00           Cash     9.6           0.48  \n",
       "2       7.0  03/03/19  13:23:00    Credit card     7.4           0.33  \n",
       "3       8.0  27/01/19  20:33:00        Ewallet     8.4           0.33  \n",
       "4       7.0  08/02/19  10:37:00        Ewallet     5.3           0.48  "
      ]
     },
     "execution_count": 3,
     "metadata": {},
     "output_type": "execute_result"
    }
   ],
   "source": [
    "df.head()"
   ]
  },
  {
   "cell_type": "code",
   "execution_count": 4,
   "id": "40a5edfe-0d10-493e-96c8-335b4333d0f3",
   "metadata": {},
   "outputs": [
    {
     "data": {
      "text/html": [
       "<div>\n",
       "<style scoped>\n",
       "    .dataframe tbody tr th:only-of-type {\n",
       "        vertical-align: middle;\n",
       "    }\n",
       "\n",
       "    .dataframe tbody tr th {\n",
       "        vertical-align: top;\n",
       "    }\n",
       "\n",
       "    .dataframe thead th {\n",
       "        text-align: right;\n",
       "    }\n",
       "</style>\n",
       "<table border=\"1\" class=\"dataframe\">\n",
       "  <thead>\n",
       "    <tr style=\"text-align: right;\">\n",
       "      <th></th>\n",
       "      <th>invoice_id</th>\n",
       "      <th>quantity</th>\n",
       "      <th>rating</th>\n",
       "      <th>profit_margin</th>\n",
       "    </tr>\n",
       "  </thead>\n",
       "  <tbody>\n",
       "    <tr>\n",
       "      <th>count</th>\n",
       "      <td>10051.000000</td>\n",
       "      <td>10020.000000</td>\n",
       "      <td>10051.000000</td>\n",
       "      <td>10051.000000</td>\n",
       "    </tr>\n",
       "    <tr>\n",
       "      <th>mean</th>\n",
       "      <td>5025.741220</td>\n",
       "      <td>2.353493</td>\n",
       "      <td>5.825659</td>\n",
       "      <td>0.393791</td>\n",
       "    </tr>\n",
       "    <tr>\n",
       "      <th>std</th>\n",
       "      <td>2901.174372</td>\n",
       "      <td>1.602658</td>\n",
       "      <td>1.763991</td>\n",
       "      <td>0.090669</td>\n",
       "    </tr>\n",
       "    <tr>\n",
       "      <th>min</th>\n",
       "      <td>1.000000</td>\n",
       "      <td>1.000000</td>\n",
       "      <td>3.000000</td>\n",
       "      <td>0.180000</td>\n",
       "    </tr>\n",
       "    <tr>\n",
       "      <th>25%</th>\n",
       "      <td>2513.500000</td>\n",
       "      <td>1.000000</td>\n",
       "      <td>4.000000</td>\n",
       "      <td>0.330000</td>\n",
       "    </tr>\n",
       "    <tr>\n",
       "      <th>50%</th>\n",
       "      <td>5026.000000</td>\n",
       "      <td>2.000000</td>\n",
       "      <td>6.000000</td>\n",
       "      <td>0.330000</td>\n",
       "    </tr>\n",
       "    <tr>\n",
       "      <th>75%</th>\n",
       "      <td>7538.500000</td>\n",
       "      <td>3.000000</td>\n",
       "      <td>7.000000</td>\n",
       "      <td>0.480000</td>\n",
       "    </tr>\n",
       "    <tr>\n",
       "      <th>max</th>\n",
       "      <td>10000.000000</td>\n",
       "      <td>10.000000</td>\n",
       "      <td>10.000000</td>\n",
       "      <td>0.570000</td>\n",
       "    </tr>\n",
       "  </tbody>\n",
       "</table>\n",
       "</div>"
      ],
      "text/plain": [
       "         invoice_id      quantity        rating  profit_margin\n",
       "count  10051.000000  10020.000000  10051.000000   10051.000000\n",
       "mean    5025.741220      2.353493      5.825659       0.393791\n",
       "std     2901.174372      1.602658      1.763991       0.090669\n",
       "min        1.000000      1.000000      3.000000       0.180000\n",
       "25%     2513.500000      1.000000      4.000000       0.330000\n",
       "50%     5026.000000      2.000000      6.000000       0.330000\n",
       "75%     7538.500000      3.000000      7.000000       0.480000\n",
       "max    10000.000000     10.000000     10.000000       0.570000"
      ]
     },
     "execution_count": 4,
     "metadata": {},
     "output_type": "execute_result"
    }
   ],
   "source": [
    "df.describe()"
   ]
  },
  {
   "cell_type": "code",
   "execution_count": 5,
   "id": "54faea47-13aa-48bb-b6cd-f9585ed54761",
   "metadata": {},
   "outputs": [
    {
     "name": "stdout",
     "output_type": "stream",
     "text": [
      "<class 'pandas.core.frame.DataFrame'>\n",
      "RangeIndex: 10051 entries, 0 to 10050\n",
      "Data columns (total 11 columns):\n",
      " #   Column          Non-Null Count  Dtype  \n",
      "---  ------          --------------  -----  \n",
      " 0   invoice_id      10051 non-null  int64  \n",
      " 1   Branch          10051 non-null  object \n",
      " 2   City            10051 non-null  object \n",
      " 3   category        10051 non-null  object \n",
      " 4   unit_price      10020 non-null  object \n",
      " 5   quantity        10020 non-null  float64\n",
      " 6   date            10051 non-null  object \n",
      " 7   time            10051 non-null  object \n",
      " 8   payment_method  10051 non-null  object \n",
      " 9   rating          10051 non-null  float64\n",
      " 10  profit_margin   10051 non-null  float64\n",
      "dtypes: float64(3), int64(1), object(7)\n",
      "memory usage: 863.9+ KB\n"
     ]
    }
   ],
   "source": [
    "df.info()"
   ]
  },
  {
   "cell_type": "code",
   "execution_count": 6,
   "id": "54c7cb08-972e-44a3-a568-968b776503c4",
   "metadata": {},
   "outputs": [
    {
     "data": {
      "text/plain": [
       "51"
      ]
     },
     "execution_count": 6,
     "metadata": {},
     "output_type": "execute_result"
    }
   ],
   "source": [
    "df.duplicated().sum()"
   ]
  },
  {
   "cell_type": "code",
   "execution_count": 7,
   "id": "1547d274-cc01-41ec-bdb3-997a59d8b7e1",
   "metadata": {},
   "outputs": [
    {
     "data": {
      "text/plain": [
       "invoice_id         0\n",
       "Branch             0\n",
       "City               0\n",
       "category           0\n",
       "unit_price        31\n",
       "quantity          31\n",
       "date               0\n",
       "time               0\n",
       "payment_method     0\n",
       "rating             0\n",
       "profit_margin      0\n",
       "dtype: int64"
      ]
     },
     "execution_count": 7,
     "metadata": {},
     "output_type": "execute_result"
    }
   ],
   "source": [
    "df.isnull().sum()"
   ]
  },
  {
   "cell_type": "code",
   "execution_count": 8,
   "id": "3569d56d-acd9-457b-b881-cd12fb23247f",
   "metadata": {},
   "outputs": [
    {
     "name": "stdout",
     "output_type": "stream",
     "text": [
      "Index(['invoice_id', 'branch', 'city', 'category', 'unit_price', 'quantity',\n",
      "       'date', 'time', 'payment_method', 'rating', 'profit_margin'],\n",
      "      dtype='object')\n"
     ]
    }
   ],
   "source": [
    "# Standardize column names: lowercase, underscores, strip spaces\n",
    "df.columns = df.columns.str.strip().str.lower().str.replace(' ', '_')\n",
    "print(df.columns)"
   ]
  },
  {
   "cell_type": "code",
   "execution_count": 9,
   "id": "4761acf4-0cfe-4435-8722-6a6e79ec2b0c",
   "metadata": {},
   "outputs": [],
   "source": [
    "# Standardize text fields\n",
    "text_cols = ['city', 'branch', 'category', 'payment_method']\n",
    "for col in text_cols:\n",
    "    if col in df.columns:\n",
    "        df[col] = df[col].str.lower().str.strip()\n",
    "    else:\n",
    "        print(f\"Column '{col}' not found.\")"
   ]
  },
  {
   "cell_type": "code",
   "execution_count": 10,
   "id": "d7a7a918-b4f7-4dfa-9775-d931d022dd62",
   "metadata": {},
   "outputs": [],
   "source": [
    "# Convert date column\n",
    "df['date'] = pd.to_datetime(\n",
    "    df['date'].astype(str).str.strip(),\n",
    "    format='%d/%m/%y',\n",
    "    errors='coerce'\n",
    ")"
   ]
  },
  {
   "cell_type": "code",
   "execution_count": 11,
   "id": "d7b95345-bc3e-4a2e-ad7b-da80e87588a7",
   "metadata": {},
   "outputs": [
    {
     "name": "stdout",
     "output_type": "stream",
     "text": [
      "   invoice_id   branch         city                category unit_price  \\\n",
      "0           1  walm003  san antonio       health and beauty     $74.69   \n",
      "1           2  walm048    harlingen  electronic accessories     $15.28   \n",
      "2           3  walm067  haltom city      home and lifestyle     $46.33   \n",
      "3           4  walm064      bedford       health and beauty     $58.22   \n",
      "4           5  walm013       irving       sports and travel     $86.31   \n",
      "5           6  walm026       denton  electronic accessories     $85.39   \n",
      "6           7  walm088     cleburne  electronic accessories     $68.84   \n",
      "7           8  walm100       canyon      home and lifestyle     $73.56   \n",
      "8           9  walm066    grapevine       health and beauty     $36.26   \n",
      "9          10  walm065   texas city      food and beverages     $54.84   \n",
      "\n",
      "   quantity       date      time payment_method  rating  profit_margin  \n",
      "0       7.0 2019-01-05  13:08:00        ewallet     9.1           0.48  \n",
      "1       5.0 2019-03-08  10:29:00           cash     9.6           0.48  \n",
      "2       7.0 2019-03-03  13:23:00    credit card     7.4           0.33  \n",
      "3       8.0 2019-01-27  20:33:00        ewallet     8.4           0.33  \n",
      "4       7.0 2019-02-08  10:37:00        ewallet     5.3           0.48  \n",
      "5       7.0 2019-03-25  18:30:00        ewallet     4.1           0.48  \n",
      "6       6.0 2019-02-25  14:36:00        ewallet     5.8           0.33  \n",
      "7      10.0 2019-02-24  11:38:00        ewallet     8.0           0.18  \n",
      "8       2.0 2019-01-10  17:15:00    credit card     7.2           0.33  \n",
      "9       3.0 2019-02-20  13:27:00    credit card     5.9           0.33  \n"
     ]
    }
   ],
   "source": [
    "print(df.head(10))"
   ]
  },
  {
   "cell_type": "code",
   "execution_count": 12,
   "id": "cd9ca8e2-dbe5-473a-a216-fbd6af5fe6fe",
   "metadata": {},
   "outputs": [
    {
     "name": "stdout",
     "output_type": "stream",
     "text": [
      "51\n"
     ]
    }
   ],
   "source": [
    "# Remove duplicates\n",
    "before = df.shape[0]\n",
    "df = df.drop_duplicates()\n",
    "after = df.shape[0]\n",
    "print(before - after)"
   ]
  },
  {
   "cell_type": "code",
   "execution_count": 13,
   "id": "c1c436ff-4c2f-4174-a36e-1a014b188c3c",
   "metadata": {},
   "outputs": [
    {
     "name": "stdout",
     "output_type": "stream",
     "text": [
      "0\n",
      "Empty DataFrame\n",
      "Columns: [invoice_id, branch, city, category, unit_price, quantity, date, time, payment_method, rating, profit_margin]\n",
      "Index: []\n"
     ]
    }
   ],
   "source": [
    "# Check for any duplicate rows\n",
    "print(df.duplicated().sum())\n",
    "duplicates = df[df.duplicated()]\n",
    "print(duplicates)\n"
   ]
  },
  {
   "cell_type": "code",
   "execution_count": 14,
   "id": "692c2ba5-30d6-4c71-ba23-50ec50e43522",
   "metadata": {},
   "outputs": [],
   "source": [
    "# Remove dollar signs, commas, and any spaces\n",
    "df['unit_price'] = df['unit_price'].astype(str).str.replace(r'[\\$,]', '', regex=True).str.strip()"
   ]
  },
  {
   "cell_type": "code",
   "execution_count": 15,
   "id": "dc11fef9-48c4-4286-ad69-2d99545686c1",
   "metadata": {},
   "outputs": [
    {
     "name": "stdout",
     "output_type": "stream",
     "text": [
      "total\n"
     ]
    }
   ],
   "source": [
    "# Convert numeric fields\n",
    "num_cols = ['quantity', 'unit_price', 'total']\n",
    "for col in num_cols:\n",
    "    if col in df.columns:\n",
    "        df[col] = pd.to_numeric(df[col], errors='coerce').fillna(0)\n",
    "    else:\n",
    "        print(col)"
   ]
  },
  {
   "cell_type": "code",
   "execution_count": 16,
   "id": "20e783ad-9432-4f20-90d6-8790e3633d96",
   "metadata": {},
   "outputs": [
    {
     "data": {
      "text/html": [
       "<div>\n",
       "<style scoped>\n",
       "    .dataframe tbody tr th:only-of-type {\n",
       "        vertical-align: middle;\n",
       "    }\n",
       "\n",
       "    .dataframe tbody tr th {\n",
       "        vertical-align: top;\n",
       "    }\n",
       "\n",
       "    .dataframe thead th {\n",
       "        text-align: right;\n",
       "    }\n",
       "</style>\n",
       "<table border=\"1\" class=\"dataframe\">\n",
       "  <thead>\n",
       "    <tr style=\"text-align: right;\">\n",
       "      <th></th>\n",
       "      <th>quantity</th>\n",
       "      <th>unit_price</th>\n",
       "      <th>total</th>\n",
       "    </tr>\n",
       "  </thead>\n",
       "  <tbody>\n",
       "    <tr>\n",
       "      <th>0</th>\n",
       "      <td>7.0</td>\n",
       "      <td>74.69</td>\n",
       "      <td>522.83</td>\n",
       "    </tr>\n",
       "    <tr>\n",
       "      <th>1</th>\n",
       "      <td>5.0</td>\n",
       "      <td>15.28</td>\n",
       "      <td>76.40</td>\n",
       "    </tr>\n",
       "    <tr>\n",
       "      <th>2</th>\n",
       "      <td>7.0</td>\n",
       "      <td>46.33</td>\n",
       "      <td>324.31</td>\n",
       "    </tr>\n",
       "    <tr>\n",
       "      <th>3</th>\n",
       "      <td>8.0</td>\n",
       "      <td>58.22</td>\n",
       "      <td>465.76</td>\n",
       "    </tr>\n",
       "    <tr>\n",
       "      <th>4</th>\n",
       "      <td>7.0</td>\n",
       "      <td>86.31</td>\n",
       "      <td>604.17</td>\n",
       "    </tr>\n",
       "    <tr>\n",
       "      <th>5</th>\n",
       "      <td>7.0</td>\n",
       "      <td>85.39</td>\n",
       "      <td>597.73</td>\n",
       "    </tr>\n",
       "    <tr>\n",
       "      <th>6</th>\n",
       "      <td>6.0</td>\n",
       "      <td>68.84</td>\n",
       "      <td>413.04</td>\n",
       "    </tr>\n",
       "    <tr>\n",
       "      <th>7</th>\n",
       "      <td>10.0</td>\n",
       "      <td>73.56</td>\n",
       "      <td>735.60</td>\n",
       "    </tr>\n",
       "    <tr>\n",
       "      <th>8</th>\n",
       "      <td>2.0</td>\n",
       "      <td>36.26</td>\n",
       "      <td>72.52</td>\n",
       "    </tr>\n",
       "    <tr>\n",
       "      <th>9</th>\n",
       "      <td>3.0</td>\n",
       "      <td>54.84</td>\n",
       "      <td>164.52</td>\n",
       "    </tr>\n",
       "  </tbody>\n",
       "</table>\n",
       "</div>"
      ],
      "text/plain": [
       "   quantity  unit_price   total\n",
       "0       7.0       74.69  522.83\n",
       "1       5.0       15.28   76.40\n",
       "2       7.0       46.33  324.31\n",
       "3       8.0       58.22  465.76\n",
       "4       7.0       86.31  604.17\n",
       "5       7.0       85.39  597.73\n",
       "6       6.0       68.84  413.04\n",
       "7      10.0       73.56  735.60\n",
       "8       2.0       36.26   72.52\n",
       "9       3.0       54.84  164.52"
      ]
     },
     "execution_count": 16,
     "metadata": {},
     "output_type": "execute_result"
    }
   ],
   "source": [
    "# Compute total\n",
    "if {'quantity', 'unit_price'}.issubset(df.columns):\n",
    "    df['total'] = df['quantity'] * df['unit_price']\n",
    "    \n",
    "df[['quantity', 'unit_price', 'total']].head(10)"
   ]
  },
  {
   "cell_type": "code",
   "execution_count": 17,
   "id": "15252200-5032-480f-9159-0a3458abdeb4",
   "metadata": {},
   "outputs": [
    {
     "name": "stdout",
     "output_type": "stream",
     "text": [
      "<class 'pandas.core.frame.DataFrame'>\n",
      "Index: 10000 entries, 0 to 9999\n",
      "Data columns (total 12 columns):\n",
      " #   Column          Non-Null Count  Dtype         \n",
      "---  ------          --------------  -----         \n",
      " 0   invoice_id      10000 non-null  int64         \n",
      " 1   branch          10000 non-null  object        \n",
      " 2   city            10000 non-null  object        \n",
      " 3   category        10000 non-null  object        \n",
      " 4   unit_price      10000 non-null  float64       \n",
      " 5   quantity        10000 non-null  float64       \n",
      " 6   date            10000 non-null  datetime64[ns]\n",
      " 7   time            10000 non-null  object        \n",
      " 8   payment_method  10000 non-null  object        \n",
      " 9   rating          10000 non-null  float64       \n",
      " 10  profit_margin   10000 non-null  float64       \n",
      " 11  total           10000 non-null  float64       \n",
      "dtypes: datetime64[ns](1), float64(5), int64(1), object(5)\n",
      "memory usage: 1015.6+ KB\n",
      "None\n",
      "invoice_id        0\n",
      "branch            0\n",
      "city              0\n",
      "category          0\n",
      "unit_price        0\n",
      "quantity          0\n",
      "date              0\n",
      "time              0\n",
      "payment_method    0\n",
      "rating            0\n",
      "profit_margin     0\n",
      "total             0\n",
      "dtype: int64\n",
      "   invoice_id   branch         city                category  unit_price  \\\n",
      "0           1  walm003  san antonio       health and beauty       74.69   \n",
      "1           2  walm048    harlingen  electronic accessories       15.28   \n",
      "2           3  walm067  haltom city      home and lifestyle       46.33   \n",
      "3           4  walm064      bedford       health and beauty       58.22   \n",
      "4           5  walm013       irving       sports and travel       86.31   \n",
      "\n",
      "   quantity       date      time payment_method  rating  profit_margin   total  \n",
      "0       7.0 2019-01-05  13:08:00        ewallet     9.1           0.48  522.83  \n",
      "1       5.0 2019-03-08  10:29:00           cash     9.6           0.48   76.40  \n",
      "2       7.0 2019-03-03  13:23:00    credit card     7.4           0.33  324.31  \n",
      "3       8.0 2019-01-27  20:33:00        ewallet     8.4           0.33  465.76  \n",
      "4       7.0 2019-02-08  10:37:00        ewallet     5.3           0.48  604.17  \n"
     ]
    }
   ],
   "source": [
    "# Final validation\n",
    "print(df.info())\n",
    "print(df.isnull().sum())\n",
    "print(df.head())"
   ]
  },
  {
   "cell_type": "code",
   "execution_count": 18,
   "id": "d5bc5e8e-ad3a-4423-a52b-416ca944e26f",
   "metadata": {},
   "outputs": [
    {
     "data": {
      "text/plain": [
       "array(['walm003', 'walm048', 'walm067', 'walm064', 'walm013', 'walm026',\n",
       "       'walm088', 'walm100', 'walm066', 'walm065', 'walm035', 'walm027',\n",
       "       'walm031', 'walm008', 'walm029', 'walm061', 'walm053', 'walm044',\n",
       "       'walm083', 'walm023', 'walm001', 'walm072', 'walm046', 'walm012',\n",
       "       'walm075', 'walm076', 'walm098', 'walm021', 'walm096', 'walm022',\n",
       "       'walm095', 'walm041', 'walm070', 'walm030', 'walm033', 'walm079',\n",
       "       'walm042', 'walm036', 'walm056', 'walm058', 'walm015', 'walm063',\n",
       "       'walm089', 'walm093', 'walm045', 'walm005', 'walm078', 'walm037',\n",
       "       'walm069', 'walm087', 'walm020', 'walm007', 'walm017', 'walm094',\n",
       "       'walm071', 'walm090', 'walm097', 'walm043', 'walm011', 'walm049',\n",
       "       'walm040', 'walm034', 'walm014', 'walm004', 'walm057', 'walm055',\n",
       "       'walm038', 'walm025', 'walm024', 'walm085', 'walm016', 'walm018',\n",
       "       'walm068', 'walm002', 'walm062', 'walm052', 'walm047', 'walm054',\n",
       "       'walm099', 'walm074', 'walm028', 'walm019', 'walm084', 'walm039',\n",
       "       'walm060', 'walm073', 'walm059', 'walm086', 'walm050', 'walm081',\n",
       "       'walm009', 'walm077', 'walm091', 'walm051', 'walm010', 'walm032',\n",
       "       'walm082', 'walm006', 'walm092', 'walm080'], dtype=object)"
      ]
     },
     "execution_count": 18,
     "metadata": {},
     "output_type": "execute_result"
    }
   ],
   "source": [
    "df['branch'].unique()"
   ]
  },
  {
   "cell_type": "code",
   "execution_count": 19,
   "id": "072fec40-1d64-4c03-8f95-ec82372bd9e0",
   "metadata": {},
   "outputs": [
    {
     "data": {
      "text/plain": [
       "array(['health and beauty', 'electronic accessories',\n",
       "       'home and lifestyle', 'sports and travel', 'food and beverages',\n",
       "       'fashion accessories'], dtype=object)"
      ]
     },
     "execution_count": 19,
     "metadata": {},
     "output_type": "execute_result"
    }
   ],
   "source": [
    "df['category'].unique()"
   ]
  },
  {
   "cell_type": "code",
   "execution_count": 20,
   "id": "7d29b5bf-639b-4ade-81fc-0810156bd3bd",
   "metadata": {},
   "outputs": [],
   "source": [
    "df.to_csv(\"walmart_cleaned.csv\", index=False)\n",
    "df.to_excel(\"walmart_cleaned.xlsx\", index=False)"
   ]
  }
 ],
 "metadata": {
  "kernelspec": {
   "display_name": "Python 3 (ipykernel)",
   "language": "python",
   "name": "python3"
  },
  "language_info": {
   "codemirror_mode": {
    "name": "ipython",
    "version": 3
   },
   "file_extension": ".py",
   "mimetype": "text/x-python",
   "name": "python",
   "nbconvert_exporter": "python",
   "pygments_lexer": "ipython3",
   "version": "3.12.7"
  }
 },
 "nbformat": 4,
 "nbformat_minor": 5
}
